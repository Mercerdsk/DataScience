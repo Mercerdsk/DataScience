{
 "cells": [
  {
   "cell_type": "code",
   "execution_count": 2,
   "metadata": {},
   "outputs": [
    {
     "name": "stdout",
     "output_type": "stream",
     "text": [
      "{1: 0.4, 3: 0.27999999999999997, 5: 0.27999999999999997, 7: 0.27999999999999997, 10: 0.27999999999999997, 15: 0.27999999999999997, 20: 0.27999999999999997, 25: 0.27999999999999997, 30: 0.27999999999999997}\n"
     ]
    },
    {
     "data": {
      "image/png": "[encoded data removed]",
      "text/plain": [
       "<Figure size 432x288 with 1 Axes>"
      ]
     },
     "metadata": {
      "needs_background": "light"
     },
     "output_type": "display_data"
    },
    {
     "name": "stdout",
     "output_type": "stream",
     "text": [
      "None\n",
      "Maximum Depth 1 ----> Accuracy Score = 0.4\n",
      "Maximum Depth 3 ----> Accuracy Score = 0.27999999999999997\n",
      "Maximum Depth 5 ----> Accuracy Score = 0.27999999999999997\n",
      "Maximum Depth 7 ----> Accuracy Score = 0.27999999999999997\n",
      "Maximum Depth 10 ----> Accuracy Score = 0.27999999999999997\n",
      "Maximum Depth 15 ----> Accuracy Score = 0.27999999999999997\n",
      "Maximum Depth 20 ----> Accuracy Score = 0.27999999999999997\n",
      "Maximum Depth 25 ----> Accuracy Score = 0.27999999999999997\n",
      "Maximum Depth 30 ----> Accuracy Score = 0.27999999999999997\n"
     ]
    }
   ],
   "source": [
    "# -*- coding: utf-8 -*-\n",
    "\"\"\"\n",
    "Decision Tree\n",
    "\n",
    "\"\"\"\n",
    "\n",
    "import pandas as pd\n",
    "from sklearn import model_selection\n",
    "from sklearn.tree import DecisionTreeClassifier\n",
    "import matplotlib.pyplot as plt\n",
    "import numpy as np\n",
    "\n",
    "class Decision_Tree():\n",
    "    def __init__(self):\n",
    "        self.max_depth = [1,3,5,7,10,15,20,25,30]\n",
    "    \n",
    "    def dataset_split(self):\n",
    "        df = pd.read_csv(\"dp6.csv\")  \n",
    "        X = df.drop('Y',axis=1)\n",
    "        y = df.Y\n",
    "        return X,y\n",
    "\n",
    "    def model_creation(self):\n",
    "        acc_score = {}\n",
    "        for i in self.max_depth:\n",
    "            #acc = []\n",
    "            kfold = model_selection.KFold(n_splits=5)\n",
    "            model = DecisionTreeClassifier(random_state=0, max_depth=i)\n",
    "            results = model_selection.cross_val_score(model, X, y, cv=kfold)\n",
    "            #accuracy_score = results.mean()\n",
    "            #acc.append(results.mean())\n",
    "            acc_score[i] = results.mean()\n",
    "            \n",
    "        print(acc_score)\n",
    "        return acc_score\n",
    "    \n",
    "    def graph(self, acc_score):\n",
    "        names = list(acc_score.keys())\n",
    "        values = list(acc_score.values())\n",
    "        plt.plot(names,values)\n",
    "        plt.title(\"Decision Tree Classifier \\n Variations in Accuracy \\n with Max Depth\", pad=30)\n",
    "        plt.ylabel(\"Accuracy\", fontsize = \"large\")\n",
    "        plt.xlabel('Max Depth', fontsize = \"large\")\n",
    "        plt.legend([\"Max Depth\"], loc='lower right')\n",
    "        plt.show()\n",
    "        \n",
    "        #print(\"\\n\",acc_score)\n",
    "        #print(\"\\nOverall Accuracy Score for Decision Tree = \",np.mean(acc_score))\n",
    "\n",
    "\n",
    "d_tree = Decision_Tree()\n",
    "X,y = d_tree.dataset_split()\n",
    "acc_score = d_tree.model_creation()\n",
    "print(d_tree.graph(acc_score))\n",
    "\n",
    "\n",
    "for x,y in acc_score.items():\n",
    "    print(\"Maximum Depth {0} ----> Accuracy Score = {1}\". format (x, np.mean(acc_score[x])) )\n"
   ]
  },
  {
   "cell_type": "code",
   "execution_count": null,
   "metadata": {},
   "outputs": [],
   "source": []
  }
 ],
 "metadata": {
  "kernelspec": {
   "display_name": "Python 3",
   "language": "python",
   "name": "python3"
  },
  "language_info": {
   "codemirror_mode": {
    "name": "ipython",
    "version": 3
   },
   "file_extension": ".py",
   "mimetype": "text/x-python",
   "name": "python",
   "nbconvert_exporter": "python",
   "pygments_lexer": "ipython3",
   "version": "3.7.4"
  }
 },
 "nbformat": 4,
 "nbformat_minor": 2
}
