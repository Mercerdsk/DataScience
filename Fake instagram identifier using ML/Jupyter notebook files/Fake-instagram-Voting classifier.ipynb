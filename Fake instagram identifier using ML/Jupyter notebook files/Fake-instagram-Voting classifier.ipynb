{
 "cells": [
  {
   "cell_type": "code",
   "execution_count": 3,
   "metadata": {},
   "outputs": [
    {
     "name": "stdout",
     "output_type": "stream",
     "text": [
      "\n",
      " [0.36]\n",
      "\n",
      "Overall Accuracy Score for Voting Classifier =  0.36\n"
     ]
    }
   ],
   "source": [
    "# -*- coding: utf-8 -*-\n",
    "\"\"\"\n",
    "Voting Classifier\n",
    "\n",
    "\"\"\"\n",
    "\n",
    "import pandas as pd\n",
    "from sklearn import model_selection\n",
    "from sklearn.tree import DecisionTreeClassifier\n",
    "from sklearn.ensemble import BaggingClassifier, VotingClassifier\n",
    "from xgboost import XGBClassifier\n",
    "import matplotlib.pyplot as plt\n",
    "import numpy as np\n",
    "\n",
    "class Voting_Classifier():\n",
    "    def __init__(self):\n",
    "        self.split = [2,3,4,5,10]\n",
    "    \n",
    "    def dataset_split(self):\n",
    "        df = pd.read_csv(\"dp6.csv\")  \n",
    "        X = df.drop('Y',axis=1)\n",
    "        y = df.Y\n",
    "        return X,y\n",
    "\n",
    "    def model_creation(self):\n",
    "        acc = []\n",
    "        kfold = model_selection.KFold(n_splits=5)\n",
    "        \n",
    "        model1 = DecisionTreeClassifier(max_depth=7)\n",
    "        model2 = BaggingClassifier(n_estimators=100)\n",
    "        model3 = XGBClassifier(n_estimators = 100,max_depth=4)\n",
    "        \n",
    "        model = VotingClassifier(estimators=[('lr', model1), ('rf', model2), ('gnb', model3)], voting='hard')\n",
    "        \n",
    "        results = model_selection.cross_val_score(model, X, y, cv=kfold)\n",
    "        accuracy_score = results.mean()\n",
    "        acc.append(accuracy_score)\n",
    "\n",
    "        return acc\n",
    "    \n",
    "    def graph(self, acc_score):\n",
    "        plt.plot(self.split, acc_score)\n",
    "        plt.title(\"Voting Classifier \\n Decision Tree, Bagging and XGBoost \\n Variations in Accuracy \\n with K-Fold Splits\", pad=20)\n",
    "        plt.ylabel(\"Accuracy\", fontsize = \"large\")\n",
    "        plt.xlabel('K-Fold Splits', fontsize = \"large\")\n",
    "        plt.legend([\"Voting Classifier\"], loc='lower right')\n",
    "        plt.show()\n",
    "        \n",
    "\n",
    "\n",
    "\n",
    "vo_cla = Voting_Classifier()\n",
    "X,y = vo_cla.dataset_split()\n",
    "acc_score = vo_cla.model_creation()\n",
    "#print(vo_cla.graph(acc_score))\n",
    "\n",
    "print(\"\\n\",acc_score)\n",
    "print(\"\\nOverall Accuracy Score for Voting Classifier = \",np.mean(acc_score))\n"
   ]
  },
  {
   "cell_type": "code",
   "execution_count": null,
   "metadata": {},
   "outputs": [],
   "source": []
  }
 ],
 "metadata": {
  "kernelspec": {
   "display_name": "Python 3",
   "language": "python",
   "name": "python3"
  },
  "language_info": {
   "codemirror_mode": {
    "name": "ipython",
    "version": 3
   },
   "file_extension": ".py",
   "mimetype": "text/x-python",
   "name": "python",
   "nbconvert_exporter": "python",
   "pygments_lexer": "ipython3",
   "version": "3.7.4"
  }
 },
 "nbformat": 4,
 "nbformat_minor": 2
}
