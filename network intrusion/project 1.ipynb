{
 "cells": [
  {
   "cell_type": "code",
   "execution_count": 1,
   "metadata": {},
   "outputs": [
    {
     "name": "stdout",
     "output_type": "stream",
     "text": [
      "       X1  X2  X3  X4    X5     X6  X7  X8  X9  X10  ...  X32  X33   X34  \\\n",
      "6761    0   0  19   9   221  21761   0   0   0    0  ...   69  255  1.00   \n",
      "25106   0   0  31   5     0      0   0   0   0    0  ...  255    8  0.03   \n",
      "11572   0   0  19   1     0      0   0   0   0    0  ...    1  104  1.00   \n",
      "4355    0   0  33   5     0      0   0   0   0    0  ...  255    4  0.02   \n",
      "12793   0   0  27   1     0      0   0   0   0    0  ...  255   14  0.05   \n",
      "...    ..  ..  ..  ..   ...    ...  ..  ..  ..  ...  ...  ...  ...   ...   \n",
      "13123   0   1   8   9    46     46   0   0   0    0  ...  255  255  1.00   \n",
      "19648   0   2  11   9    30      0   0   0   0    0  ...    3    4  1.00   \n",
      "9845    0   0  60   5     0      0   0   0   0    0  ...  255    9  0.04   \n",
      "10799   0   0  49   9  1197    508   0   0   0    0  ...   22  175  0.95   \n",
      "2732    0   0  19   9   232    458   0   0   0    0  ...    5  255  1.00   \n",
      "\n",
      "        X35   X36   X37  X38  X39  X40  X41  \n",
      "6761   0.00  0.01  0.04  0.0  0.0  0.0  0.0  \n",
      "25106  0.06  0.00  0.00  1.0  1.0  0.0  0.0  \n",
      "11572  0.00  1.00  0.18  0.0  0.0  1.0  1.0  \n",
      "4355   0.07  0.00  0.00  1.0  1.0  0.0  0.0  \n",
      "12793  0.07  0.00  0.00  0.0  0.0  1.0  1.0  \n",
      "...     ...   ...   ...  ...  ...  ...  ...  \n",
      "13123  0.00  0.00  0.00  0.0  0.0  0.0  0.0  \n",
      "19648  0.00  1.00  0.50  0.0  0.0  0.0  0.0  \n",
      "9845   0.06  0.00  0.00  1.0  1.0  0.0  0.0  \n",
      "10799  0.09  0.05  0.02  0.0  0.0  0.0  0.0  \n",
      "2732   0.00  0.20  0.10  0.0  0.0  0.0  0.0  \n",
      "\n",
      "[18894 rows x 41 columns]        X1  X2  X3  X4    X5    X6  X7  X8  X9  X10  ...  X32  X33   X34   X35  \\\n",
      "15378   1   0  49   9  1517   332   0   0   0    0  ...   32  186  0.62  0.12   \n",
      "48      0   0  16   9   334     0   0   0   0    0  ...    4   38  1.00  0.00   \n",
      "6910    0   0  19   9   314   810   0   0   0    0  ...  255  255  1.00  0.00   \n",
      "7849    0   0   5   2     0     0   0   0   0    0  ...  255   14  0.05  0.08   \n",
      "19598   0   0  44   5     0     0   0   0   0    0  ...  226   19  0.08  0.08   \n",
      "...    ..  ..  ..  ..   ...   ...  ..  ..  ..  ...  ...  ...  ...   ...   ...   \n",
      "12973   1   0  49   9  1207   333   0   0   0    0  ...  197  159  0.70  0.02   \n",
      "778     1   0  44   4     0     0   0   0   0    0  ...  235    2  0.01  0.15   \n",
      "10164   0   0  19   9   254   555   0   0   0    0  ...   45  170  1.00  0.00   \n",
      "3899    0   0  19   9   303  1075   0   0   0    0  ...  255  243  0.95  0.01   \n",
      "748     0   2  11   9  1032     0   0   0   0    0  ...  255   67  0.26  0.04   \n",
      "\n",
      "        X36   X37   X38   X39   X40  X41  \n",
      "15378  0.03  0.02  0.00  0.01  0.00  0.0  \n",
      "48     1.00  0.18  0.00  0.00  0.00  0.0  \n",
      "6910   0.00  0.00  0.00  0.00  0.00  0.0  \n",
      "7849   0.00  0.00  0.00  0.00  1.00  1.0  \n",
      "19598  0.00  0.00  1.00  1.00  0.00  0.0  \n",
      "...     ...   ...   ...   ...   ...  ...  \n",
      "12973  0.01  0.01  0.00  0.00  0.00  0.0  \n",
      "778    0.28  0.00  0.01  0.00  0.49  1.0  \n",
      "10164  0.02  0.03  0.00  0.00  0.00  0.0  \n",
      "3899   0.00  0.00  0.00  0.00  0.00  0.0  \n",
      "748    0.26  0.00  0.16  0.00  0.02  0.0  \n",
      "\n",
      "[6298 rows x 41 columns] 6761     0\n",
      "25106    1\n",
      "11572    0\n",
      "4355     1\n",
      "12793    1\n",
      "        ..\n",
      "13123    0\n",
      "19648    0\n",
      "9845     1\n",
      "10799    0\n",
      "2732     0\n",
      "Name: Y, Length: 18894, dtype: int64 15378    0\n",
      "48       1\n",
      "6910     0\n",
      "7849     1\n",
      "19598    1\n",
      "        ..\n",
      "12973    0\n",
      "778      1\n",
      "10164    0\n",
      "3899     0\n",
      "748      1\n",
      "Name: Y, Length: 6298, dtype: int64\n"
     ]
    }
   ],
   "source": [
    "import pandas as pd \n",
    "import numpy as np\n",
    "import matplotlib.pyplot as plt\n",
    "dataset = pd.read_csv(\"processed_data.csv\")\n",
    "# splitting INput and Output\n",
    "feature=['X1','X2','X3','X4','X5','X6','X7','X8','X9','X10','X11','X12','X13','X14','X15','X16','X17','X18','X19','X20','X21','X22','X23','X24','X25','X26','X27','X28','X29','X30','X31','X32','X33','X34','X35','X36','X37','X38','X39','X40','X41']\n",
    "X=dataset[feature]\n",
    "y=dataset.Y\n",
    "# splitting TRAIN data and Test Data\n",
    "from sklearn.model_selection import train_test_split\n",
    "X_train,X_test,y_train,y_test=train_test_split(X,y,test_size=0.25,random_state=0)\n",
    "print(X_train,X_test,y_train,y_test)"
   ]
  },
  {
   "cell_type": "code",
   "execution_count": 2,
   "metadata": {},
   "outputs": [
    {
     "name": "stderr",
     "output_type": "stream",
     "text": [
      "C:\\ProgramData\\Anaconda\\lib\\site-packages\\sklearn\\ensemble\\forest.py:245: FutureWarning: The default value of n_estimators will change from 10 in version 0.20 to 100 in 0.22.\n",
      "  \"10 in version 0.20 to 100 in 0.22.\", FutureWarning)\n"
     ]
    },
    {
     "name": "stdout",
     "output_type": "stream",
     "text": [
      "              precision    recall  f1-score   support\n",
      "\n",
      "           0       0.99      1.00      1.00      3387\n",
      "           1       1.00      0.99      1.00      2911\n",
      "\n",
      "    accuracy                           1.00      6298\n",
      "   macro avg       1.00      1.00      1.00      6298\n",
      "weighted avg       1.00      1.00      1.00      6298\n",
      "\n"
     ]
    }
   ],
   "source": [
    "#RANDOM FOREST\n",
    "\n",
    "from sklearn.ensemble import RandomForestClassifier\n",
    "clf = RandomForestClassifier()\n",
    "clf.fit(X_train,y_train.ravel())\n",
    "y_pred= clf.predict(X_test)\n",
    "from sklearn.metrics import classification_report\n",
    "report = classification_report(y_test, y_pred)\n",
    "print(report)"
   ]
  },
  {
   "cell_type": "code",
   "execution_count": null,
   "metadata": {},
   "outputs": [],
   "source": [
    "#svm\n",
    "\n",
    "from sklearn import svm\n",
    "svmm = svm.SVC(kernel='linear', C=100)\n",
    "svmm.fit(X_train, y_train.ravel())\n",
    "y_pred= svmm.predict(X_test)\n",
    "from sklearn.metrics import classification_report\n",
    "report1 = classification_report(y_test, y_pred)\n",
    "print(report1)\n"
   ]
  },
  {
   "cell_type": "code",
   "execution_count": 3,
   "metadata": {},
   "outputs": [
    {
     "name": "stdout",
     "output_type": "stream",
     "text": [
      "              precision    recall  f1-score   support\n",
      "\n",
      "           0       0.99      1.00      1.00      3387\n",
      "           1       1.00      0.99      1.00      2911\n",
      "\n",
      "    accuracy                           1.00      6298\n",
      "   macro avg       1.00      1.00      1.00      6298\n",
      "weighted avg       1.00      1.00      1.00      6298\n",
      "\n"
     ]
    }
   ],
   "source": [
    "#K Neighbour\n",
    "\n",
    "from sklearn.neighbors import KNeighborsClassifier\n",
    "clf1 = KNeighborsClassifier()\n",
    "clf1.fit(X_train,y_train.ravel())\n",
    "clf1.predict(X_test)\n",
    "from sklearn.metrics import classification_report\n",
    "report2 = classification_report(y_test, y_pred)\n",
    "print(report2)"
   ]
  },
  {
   "cell_type": "code",
   "execution_count": 4,
   "metadata": {},
   "outputs": [
    {
     "name": "stdout",
     "output_type": "stream",
     "text": [
      "              precision    recall  f1-score   support\n",
      "\n",
      "           0       0.22      0.12      0.16      3387\n",
      "           1       0.33      0.52      0.41      2911\n",
      "\n",
      "    accuracy                           0.30      6298\n",
      "   macro avg       0.28      0.32      0.28      6298\n",
      "weighted avg       0.28      0.30      0.27      6298\n",
      "\n"
     ]
    }
   ],
   "source": [
    "#Gradient descent\n",
    "\n",
    "from sklearn import linear_model\n",
    "clf2 = linear_model.SGDClassifier()\n",
    "clf2.fit(X_train,y_train.ravel())\n",
    "y_pred= clf2.predict(X_test)\n",
    "from sklearn.metrics import classification_report\n",
    "report3 = classification_report(y_test, y_pred)\n",
    "print(report3)"
   ]
  },
  {
   "cell_type": "code",
   "execution_count": 5,
   "metadata": {},
   "outputs": [
    {
     "name": "stdout",
     "output_type": "stream",
     "text": [
      "              precision    recall  f1-score   support\n",
      "\n",
      "           0       0.55      0.98      0.71      3387\n",
      "           1       0.79      0.07      0.13      2911\n",
      "\n",
      "    accuracy                           0.56      6298\n",
      "   macro avg       0.67      0.53      0.42      6298\n",
      "weighted avg       0.66      0.56      0.44      6298\n",
      "\n"
     ]
    }
   ],
   "source": [
    "#naive bayes\n",
    "from sklearn.naive_bayes import GaussianNB\n",
    "clf4 = GaussianNB()\n",
    "clf4.fit(X_train,y_train.ravel())\n",
    "y_pred= clf4.predict(X_test)\n",
    "from sklearn.metrics import classification_report\n",
    "report4 = classification_report(y_test, y_pred)\n",
    "print(report4)\n",
    "\n"
   ]
  },
  {
   "cell_type": "code",
   "execution_count": 6,
   "metadata": {},
   "outputs": [
    {
     "name": "stderr",
     "output_type": "stream",
     "text": [
      "C:\\ProgramData\\Anaconda\\lib\\site-packages\\sklearn\\linear_model\\logistic.py:432: FutureWarning: Default solver will be changed to 'lbfgs' in 0.22. Specify a solver to silence this warning.\n",
      "  FutureWarning)\n"
     ]
    },
    {
     "name": "stdout",
     "output_type": "stream",
     "text": [
      "              precision    recall  f1-score   support\n",
      "\n",
      "           0       0.55      0.98      0.71      3387\n",
      "           1       0.79      0.07      0.13      2911\n",
      "\n",
      "    accuracy                           0.56      6298\n",
      "   macro avg       0.67      0.53      0.42      6298\n",
      "weighted avg       0.66      0.56      0.44      6298\n",
      "\n"
     ]
    }
   ],
   "source": [
    "#logistic reg\n",
    "from sklearn.linear_model import LogisticRegression\n",
    "clf5 = LogisticRegression()                          # Algorithm to be followed for logistic regression as follows\n",
    "clf5.fit(X_train, y_train)\n",
    "clf5.predict(X_test) \n",
    "from sklearn.metrics import classification_report\n",
    "report5 = classification_report(y_test, y_pred)\n",
    "print(report5)"
   ]
  },
  {
   "cell_type": "code",
   "execution_count": null,
   "metadata": {},
   "outputs": [
    {
     "name": "stderr",
     "output_type": "stream",
     "text": [
      "C:\\ProgramData\\Anaconda\\lib\\site-packages\\sklearn\\svm\\base.py:193: FutureWarning: The default value of gamma will change from 'auto' to 'scale' in version 0.22 to account better for unscaled features. Set gamma explicitly to 'auto' or 'scale' to avoid this warning.\n",
      "  \"avoid this warning.\", FutureWarning)\n",
      "C:\\ProgramData\\Anaconda\\lib\\site-packages\\sklearn\\svm\\base.py:193: FutureWarning: The default value of gamma will change from 'auto' to 'scale' in version 0.22 to account better for unscaled features. Set gamma explicitly to 'auto' or 'scale' to avoid this warning.\n",
      "  \"avoid this warning.\", FutureWarning)\n"
     ]
    }
   ],
   "source": [
    "#Bagginng classifier\n",
    "\n",
    "from sklearn.svm import SVC\n",
    "from sklearn.ensemble import BaggingClassifier\n",
    "from sklearn.datasets import make_classification\n",
    "#X, y = make_classification(n_samples=100, n_features=4,\n",
    " #                          n_informative=2, n_redundant=0,\n",
    "  #                         random_state=0, shuffle=False)\n",
    "clf = BaggingClassifier(base_estimator=SVC(),\n",
    "                        n_estimators=10, random_state=0).fit(X_train, y_train)\n",
    "y_pred9=clf.predict(X_test)\n",
    "from sklearn.metrics import classification_report\n",
    "report9 = classification_report(y_test, y_pred9)\n",
    "print(report9)"
   ]
  },
  {
   "cell_type": "code",
   "execution_count": null,
   "metadata": {},
   "outputs": [],
   "source": [
    "import numpy as np\n",
    "from sklearn.linear_model import LogisticRegression\n",
    "from sklearn.naive_bayes import GaussianNB\n",
    "from sklearn.ensemble import RandomForestClassifier, VotingClassifier\n",
    "clf1 = LogisticRegression(multi_class='multinomial', random_state=1)\n",
    "clf2 = RandomForestClassifier(n_estimators=50, random_state=1)\n",
    "clf3 = GaussianNB()\n",
    "#X = np.array([[-1, -1], [-2, -1], [-3, -2], [1, 1], [2, 1], [3, 2]])\n",
    "#y = np.array([1, 1, 1, 2, 2, 2])\n",
    "eclf1 = VotingClassifier(estimators=[\n",
    "        ('lr', clf1), ('rf', clf2), ('gnb', clf3)], voting='hard')\n",
    "eclf1 = eclf1.fit(X_train, y_train)\n",
    "print(eclf1.predict(X_test))\n",
    "\n",
    "np.array_equal(eclf1.named_estimators_.lr.predict(X_test),\n",
    "               eclf1.named_estimators_['lr'].predict(X_test))\n",
    "\n",
    "eclf2 = VotingClassifier(estimators=[\n",
    "        ('lr', clf1), ('rf', clf2), ('gnb', clf3)],\n",
    "        voting='soft')\n",
    "eclf2 = eclf2.fit(X_train, y_train)\n",
    "print(eclf2.predict(X_test))\n",
    "\n",
    "eclf3 = VotingClassifier(estimators=[\n",
    "       ('lr', clf1), ('rf', clf2), ('gnb', clf3)],\n",
    "       voting='soft', weights=[2,1,1],\n",
    "       flatten_transform=True)\n",
    "eclf3 = eclf3.fit(X_train, y_train)\n",
    "print(eclf3.predict(X_test))\n",
    "\n",
    "print(eclf3.transform(X_test).shape)"
   ]
  },
  {
   "cell_type": "code",
   "execution_count": 2,
   "metadata": {},
   "outputs": [
    {
     "name": "stdout",
     "output_type": "stream",
     "text": [
      "              precision    recall  f1-score   support\n",
      "\n",
      "           0       1.00      1.00      1.00      3387\n",
      "           1       1.00      1.00      1.00      2911\n",
      "\n",
      "    accuracy                           1.00      6298\n",
      "   macro avg       1.00      1.00      1.00      6298\n",
      "weighted avg       1.00      1.00      1.00      6298\n",
      "\n"
     ]
    }
   ],
   "source": [
    "from sklearn.model_selection import cross_val_score\n",
    "from sklearn.tree import DecisionTreeClassifier\n",
    "clf6 = DecisionTreeClassifier(random_state=0)\n",
    "clf6.fit(X_train,y_train)\n",
    "y_pred12=clf6.predict(X_test)\n",
    "from sklearn.metrics import classification_report\n",
    "report12 = classification_report(y_test, y_pred12)\n",
    "print(report12)"
   ]
  },
  {
   "cell_type": "code",
   "execution_count": null,
   "metadata": {},
   "outputs": [],
   "source": []
  }
 ],
 "metadata": {
  "kernelspec": {
   "display_name": "Python 3",
   "language": "python",
   "name": "python3"
  },
  "language_info": {
   "codemirror_mode": {
    "name": "ipython",
    "version": 3
   },
   "file_extension": ".py",
   "mimetype": "text/x-python",
   "name": "python",
   "nbconvert_exporter": "python",
   "pygments_lexer": "ipython3",
   "version": "3.7.4"
  }
 },
 "nbformat": 4,
 "nbformat_minor": 2
}
